{
 "cells": [
  {
   "cell_type": "code",
   "execution_count": 2,
   "metadata": {},
   "outputs": [],
   "source": [
    "from meta_kg.utils.py_io import read_jsonl, read_json"
   ]
  },
  {
   "cell_type": "code",
   "execution_count": 3,
   "metadata": {},
   "outputs": [],
   "source": [
    "train_data = read_jsonl(\"data/proofwriter_owa_natlang/dev.jsonl\")"
   ]
  },
  {
   "cell_type": "code",
   "execution_count": 5,
   "metadata": {},
   "outputs": [
    {
     "data": {
      "text/plain": [
       "{'triple1': {'text': 'Bob is green.',\n",
       "  'representation': '(\"Bob\" \"is\" \"green\" \"+\")'},\n",
       " 'triple2': {'text': 'Bob is blue.',\n",
       "  'representation': '(\"Bob\" \"is\" \"blue\" \"+\")'},\n",
       " 'triple3': {'text': 'Eric is round.',\n",
       "  'representation': '(\"Eric\" \"is\" \"round\" \"+\")'},\n",
       " 'triple4': {'text': 'Eric is rough.',\n",
       "  'representation': '(\"Eric\" \"is\" \"rough\" \"+\")'},\n",
       " 'triple5': {'text': 'Eric is green.',\n",
       "  'representation': '(\"Eric\" \"is\" \"green\" \"+\")'},\n",
       " 'triple6': {'text': 'Gary is rough.',\n",
       "  'representation': '(\"Gary\" \"is\" \"rough\" \"+\")'},\n",
       " 'triple7': {'text': 'Gary is red.',\n",
       "  'representation': '(\"Gary\" \"is\" \"red\" \"+\")'},\n",
       " 'triple8': {'text': 'Gary is nice.',\n",
       "  'representation': '(\"Gary\" \"is\" \"nice\" \"+\")'},\n",
       " 'triple9': {'text': 'Gary is blue.',\n",
       "  'representation': '(\"Gary\" \"is\" \"blue\" \"+\")'}}"
      ]
     },
     "execution_count": 5,
     "metadata": {},
     "output_type": "execute_result"
    }
   ],
   "source": [
    "train_data[0]['triples']"
   ]
  },
  {
   "cell_type": "code",
   "execution_count": 6,
   "metadata": {},
   "outputs": [
    {
     "data": {
      "text/plain": [
       "{'rule1': {'text': 'If someone is round and red then they are young.',\n",
       "  'representation': '(((\"someone\" \"is\" \"round\" \"+\") (\"someone\" \"is\" \"red\" \"+\")) -> (\"someone\" \"is\" \"young\" \"+\"))'},\n",
       " 'rule2': {'text': 'If someone is green and cold and red then they are blue.',\n",
       "  'representation': '(((\"someone\" \"is\" \"green\" \"+\") (\"someone\" \"is\" \"cold\" \"+\") (\"someone\" \"is\" \"red\" \"+\")) -> (\"someone\" \"is\" \"blue\" \"+\"))'},\n",
       " 'rule3': {'text': 'If someone is nice and blue then they are round.',\n",
       "  'representation': '(((\"someone\" \"is\" \"nice\" \"+\") (\"someone\" \"is\" \"blue\" \"+\")) -> (\"someone\" \"is\" \"round\" \"+\"))'},\n",
       " 'rule4': {'text': 'If someone is red and young and blue then they are cold.',\n",
       "  'representation': '(((\"someone\" \"is\" \"red\" \"+\") (\"someone\" \"is\" \"young\" \"+\") (\"someone\" \"is\" \"blue\" \"+\")) -> (\"someone\" \"is\" \"cold\" \"+\"))'},\n",
       " 'rule5': {'text': 'If someone is big and round and young then they are nice.',\n",
       "  'representation': '(((\"someone\" \"is\" \"big\" \"+\") (\"someone\" \"is\" \"round\" \"+\") (\"someone\" \"is\" \"young\" \"+\")) -> (\"someone\" \"is\" \"nice\" \"+\"))'},\n",
       " 'rule6': {'text': 'If someone is green and blue and red then they are big.',\n",
       "  'representation': '(((\"someone\" \"is\" \"green\" \"+\") (\"someone\" \"is\" \"blue\" \"+\") (\"someone\" \"is\" \"red\" \"+\")) -> (\"someone\" \"is\" \"big\" \"+\"))'}}"
      ]
     },
     "execution_count": 6,
     "metadata": {},
     "output_type": "execute_result"
    }
   ],
   "source": [
    "train_data[0]['rules']"
   ]
  },
  {
   "cell_type": "code",
   "execution_count": 10,
   "metadata": {},
   "outputs": [
    {
     "name": "stdout",
     "output_type": "stream",
     "text": [
      "Bob is not round.\n",
      "Dave is blue.\n",
      "Bob is not big.\n",
      "Dave is nice.\n",
      "Bob is not red.\n",
      "Dave is rough.\n",
      "Dave is not red.\n",
      "Eric is kind.\n"
     ]
    }
   ],
   "source": [
    "for question in train_data[0]['questions'].values():\n",
    "    if question[\"answer\"] == \"Unknown\":\n",
    "        print(question[\"question\"])"
   ]
  },
  {
   "cell_type": "code",
   "execution_count": 16,
   "metadata": {},
   "outputs": [
    {
     "data": {
      "text/plain": [
       "{'True': 7003, 'False': 7003, 'Unknown': 14004}"
      ]
     },
     "execution_count": 16,
     "metadata": {},
     "output_type": "execute_result"
    }
   ],
   "source": [
    "label_counter = {\n",
    "    \"True\": 0,\n",
    "    \"False\": 0,\n",
    "    \"Unknown\": 0\n",
    "}\n",
    "for data in train_data:\n",
    "    questions = list(data[\"questions\"].values())\n",
    "    for question in questions:\n",
    "        label = question[\"answer\"]\n",
    "        label_counter[str(label)] += 1\n",
    "label_counter\n"
   ]
  },
  {
   "cell_type": "code",
   "execution_count": 7,
   "metadata": {},
   "outputs": [
    {
     "name": "stdout",
     "output_type": "stream",
     "text": [
      "21008\n"
     ]
    },
    {
     "data": {
      "text/plain": [
       "21008"
      ]
     },
     "execution_count": 7,
     "metadata": {},
     "output_type": "execute_result"
    }
   ],
   "source": [
    "from meta_kg.dataset import MetaQADataReader\n",
    "from argparse import Namespace\n",
    "\n",
    "import itertools\n",
    "\n",
    "config = Namespace(**{\n",
    "    \"data_dir\": \"data/proofwriter_owa_natlang\",\n",
    "    \"input_format\": \"lm\",\n",
    "})\n",
    "\n",
    "reader = MetaQADataReader()\n",
    "train_data = reader.jsonl_file_reader(\"data/proofwriter_owa_natlang/train.jsonl\", config)\n",
    "\n",
    "\n",
    "print_data = {}\n",
    "print_out_keys = set(\n",
    "    itertools.chain(*[list(i.keys()) for i in train_data])\n",
    ")\n",
    "\n",
    "for key_name in print_out_keys:\n",
    "    raw_data = [t[key_name]\n",
    "                if key_name in t else [] for t in train_data]\n",
    "    print_data[key_name] = [t for t in itertools.chain(*raw_data)]\n",
    "\n",
    "i = 0\n",
    "for data in train_data:\n",
    "    if data[\"qa_pairs\"] != None:\n",
    "        i += len(data[\"qa_pairs\"])\n",
    "print(i)\n",
    "len(print_data[\"qa_pairs\"])"
   ]
  },
  {
   "cell_type": "code",
   "execution_count": 24,
   "metadata": {},
   "outputs": [
    {
     "name": "stdout",
     "output_type": "stream",
     "text": [
      "Counter({'true': 2002, 'false': 2002})\n",
      "{'acc': 0.495004995004995,\n",
      " 'acc_false': 0.0924075924075924,\n",
      " 'acc_true': 0.8976023976023976,\n",
      " 'acc_unknown': 0,\n",
      " 'f1': 0.26491783733450075}\n"
     ]
    }
   ],
   "source": [
    "from pprint import pprint\n",
    "from collections import Counter\n",
    "from sklearn.metrics import accuracy_score, f1_score, precision_score, recall_score\n",
    "\n",
    "eval_out = read_json(\"./output/dev_eval_out-epoch=0_step=28010_20221031-021656.json\")\n",
    "\n",
    "acc_class = {\n",
    "    \"true\": 0,\n",
    "    \"false\": 0,\n",
    "    \"unknown\": 0,\n",
    "}\n",
    "\n",
    "targets = [data[\"answer\"] for data in eval_out]\n",
    "outputs = [data[\"gen_out\"].strip() for data in eval_out]\n",
    "\n",
    "class_count = Counter(targets)\n",
    "pprint(class_count)\n",
    "\n",
    "if targets and outputs and len(targets) == len(outputs):\n",
    "    for label, gen in zip(targets, outputs):\n",
    "        if gen.strip() == label:\n",
    "            acc_class[label] += 1\n",
    "        \n",
    "    for key in acc_class:\n",
    "        if class_count[key] > 0:\n",
    "            acc_class[key] /= class_count[key]\n",
    "        else:\n",
    "            acc_class[key] = 0\n",
    "\n",
    "    acc = accuracy_score(targets, outputs)\n",
    "    f1 = f1_score(targets, outputs, average=\"macro\")\n",
    "\n",
    "pprint({\n",
    "    \"acc\": acc,\n",
    "    \"f1\": f1,\n",
    "    \"acc_true\": acc_class[\"true\"],\n",
    "    \"acc_false\": acc_class[\"false\"],\n",
    "    \"acc_unknown\": acc_class[\"unknown\"],\n",
    "})"
   ]
  },
  {
   "cell_type": "code",
   "execution_count": 6,
   "metadata": {},
   "outputs": [
    {
     "data": {
      "text/plain": [
       "{'guid': 'd3747655-a840-434c-a1e2-af840c2d7636',\n",
       " 'qa_pairs': [('Is it true or false that Bob is blue?', 'true')],\n",
       " 'facts': [('To determine if Bob is blue, a person needs to know',\n",
       "   'Bob is green.'),\n",
       "  ('To determine if Bob is blue, a person needs to know', 'Bob is blue.'),\n",
       "  ('To determine if Bob is blue, a person needs to know', 'Eric is round.'),\n",
       "  ('To determine if Bob is blue, a person needs to know', 'Eric is rough.'),\n",
       "  ('To determine if Bob is blue, a person needs to know', 'Eric is green.'),\n",
       "  ('To determine if Bob is blue, a person needs to know', 'Gary is rough.'),\n",
       "  ('To determine if Bob is blue, a person needs to know', 'Gary is red.'),\n",
       "  ('To determine if Bob is blue, a person needs to know', 'Gary is nice.'),\n",
       "  ('To determine if Bob is blue, a person needs to know', 'Gary is blue.'),\n",
       "  ('To determine if Bob is blue, a person needs to know',\n",
       "   'If someone is round and red then they are young.'),\n",
       "  ('To determine if Bob is blue, a person needs to know',\n",
       "   'If someone is green and cold and red then they are blue.'),\n",
       "  ('To determine if Bob is blue, a person needs to know',\n",
       "   'If someone is nice and blue then they are round.'),\n",
       "  ('To determine if Bob is blue, a person needs to know',\n",
       "   'If someone is red and young and blue then they are cold.'),\n",
       "  ('To determine if Bob is blue, a person needs to know',\n",
       "   'If someone is big and round and young then they are nice.'),\n",
       "  ('To determine if Bob is blue, a person needs to know',\n",
       "   'If someone is green and blue and red then they are big.')]}"
      ]
     },
     "execution_count": 6,
     "metadata": {},
     "output_type": "execute_result"
    }
   ],
   "source": [
    "batch = [\n",
    "    {'guid': 'd3747655-a840-434c-a1e2-af840c2d7636', 'qa_pairs': [('Is it true or false that Bob is blue?', 'true')], 'facts': [('To determine if Bob is blue, a person needs to know', 'Bob is green.'), ('To determine if Bob is blue, a person needs to know', 'Bob is blue.'), ('To determine if Bob is blue, a person needs to know', 'Eric is round.'), ('To determine if Bob is blue, a person needs to know', 'Eric is rough.'), ('To determine if Bob is blue, a person needs to know', 'Eric is green.'), ('To determine if Bob is blue, a person needs to know', 'Gary is rough.'), ('To determine if Bob is blue, a person needs to know', 'Gary is red.'), ('To determine if Bob is blue, a person needs to know', 'Gary is nice.'), ('To determine if Bob is blue, a person needs to know', 'Gary is blue.'), ('To determine if Bob is blue, a person needs to know', 'If someone is round and red then they are young.'), ('To determine if Bob is blue, a person needs to know', 'If someone is green and cold and red then they are blue.'), ('To determine if Bob is blue, a person needs to know', 'If someone is nice and blue then they are round.'), ('To determine if Bob is blue, a person needs to know', 'If someone is red and young and blue then they are cold.'), ('To determine if Bob is blue, a person needs to know', 'If someone is big and round and young then they are nice.'), ('To determine if Bob is blue, a person needs to know', 'If someone is green and blue and red then they are big.')]}, {'guid': 'd3747655-a840-434c-a1e2-af840c2d7636', 'qa_pairs': [('Is it true or false that Eric is not round?', 'false')], 'facts': [('To determine if Eric is not round, a person needs to know', 'Bob is green.'), ('To determine if Eric is not round, a person needs to know', 'Bob is blue.'), ('To determine if Eric is not round, a person needs to know', 'Eric is round.'), ('To determine if Eric is not round, a person needs to know', 'Eric is rough.'), ('To determine if Eric is not round, a person needs to know', 'Eric is green.'), ('To determine if Eric is not round, a person needs to know', 'Gary is rough.'), ('To determine if Eric is not round, a person needs to know', 'Gary is red.'), ('To determine if Eric is not round, a person needs to know', 'Gary is nice.'), ('To determine if Eric is not round, a person needs to know', 'Gary is blue.'), ('To determine if Eric is not round, a person needs to know', 'If someone is round and red then they are young.'), ('To determine if Eric is not round, a person needs to know', 'If someone is green and cold and red then they are blue.'), ('To determine if Eric is not round, a person needs to know', 'If someone is nice and blue then they are round.'), ('To determine if Eric is not round, a person needs to know', 'If someone is red and young and blue then they are cold.'), ('To determine if Eric is not round, a person needs to know', 'If someone is big and round and young then they are nice.'), ('To determine if Eric is not round, a person needs to know', 'If someone is green and blue and red then they are big.')]},\n",
    "    {'guid': '8c6a277d-a1bf-46da-a984-89f8c2193b10', 'qa_pairs': [('Is it true or false that Charlie is kind?', 'true')], 'facts': [('To determine if Charlie is kind, a person needs to know', 'Charlie is kind.'), ('To determine if Charlie is kind, a person needs to know', 'Charlie is green.'), ('To determine if Charlie is kind, a person needs to know', 'Charlie is cold.'), ('To determine if Charlie is kind, a person needs to know', 'Charlie is blue.'), ('To determine if Charlie is kind, a person needs to know', 'Fred is red.'), ('To determine if Charlie is kind, a person needs to know', 'Fred is kind.'), ('To determine if Charlie is kind, a person needs to know', 'Fred is green.'), ('To determine if Charlie is kind, a person needs to know', 'Fred is blue.'), ('To determine if Charlie is kind, a person needs to know', 'Harry is round.'), ('To determine if Charlie is kind, a person needs to know', 'If someone is nice and round and young then they are green.'), ('To determine if Charlie is kind, a person needs to know', 'If someone is blue and kind then they are rough.'), ('To determine if Charlie is kind, a person needs to know', 'If someone is green and kind and blue then they are nice.'), ('To determine if Charlie is kind, a person needs to know', 'If someone is kind and cold and blue then they are big.'), ('To determine if Charlie is kind, a person needs to know', 'If someone is rough and green then they are kind.'), ('To determine if Charlie is kind, a person needs to know', 'If someone is kind and round then they are big.'), ('To determine if Charlie is kind, a person needs to know', 'If someone is blue and rough and kind then they are cold.')]}, {'guid': '8c6a277d-a1bf-46da-a984-89f8c2193b10', 'qa_pairs': [('Is it true or false that Charlie is not blue?', 'false')], 'facts': [('To determine if Charlie is not blue, a person needs to know', 'Charlie is kind.'), ('To determine if Charlie is not blue, a person needs to know', 'Charlie is green.'), ('To determine if Charlie is not blue, a person needs to know', 'Charlie is cold.'), ('To determine if Charlie is not blue, a person needs to know', 'Charlie is blue.'), ('To determine if Charlie is not blue, a person needs to know', 'Fred is red.'), ('To determine if Charlie is not blue, a person needs to know', 'Fred is kind.'), ('To determine if Charlie is not blue, a person needs to know', 'Fred is green.'), ('To determine if Charlie is not blue, a person needs to know', 'Fred is blue.'), ('To determine if Charlie is not blue, a person needs to know', 'Harry is round.'), ('To determine if Charlie is not blue, a person needs to know', 'If someone is nice and round and young then they are green.'), ('To determine if Charlie is not blue, a person needs to know', 'If someone is blue and kind then they are rough.'), ('To determine if Charlie is not blue, a person needs to know', 'If someone is green and kind and blue then they are nice.'), ('To determine if Charlie is not blue, a person needs to know', 'If someone is kind and cold and blue then they are big.'), ('To determine if Charlie is not blue, a person needs to know', 'If someone is rough and green then they are kind.'), ('To determine if Charlie is not blue, a person needs to know', 'If someone is kind and round then they are big.'), ('To determine if Charlie is not blue, a person needs to know', 'If someone is blue and rough and kind then they are cold.')]}"
   ]
  },
  {
   "cell_type": "code",
   "execution_count": 20,
   "metadata": {},
   "outputs": [
    {
     "data": {
      "text/plain": [
       "['Is it true or false that Bob is blue? <gen> true|endtext|',\n",
       " 'Is it true or false that Eric is not round? <gen> false|endtext|',\n",
       " 'Is it true or false that Charlie is kind? <gen> true|endtext|',\n",
       " 'Is it true or false that Charlie is not blue? <gen> false|endtext|']"
      ]
     },
     "execution_count": 20,
     "metadata": {},
     "output_type": "execute_result"
    }
   ],
   "source": [
    "bos = \"|starttext|\"\n",
    "eos = \"|endtext|\"\n",
    "gen = \"<gen>\"\n",
    "\n",
    "questions = [f\"{data['qa_pairs'][0][0]} {gen} {data['qa_pairs'][0][1]}{eos}\" for data in batch]\n",
    "questions"
   ]
  },
  {
   "cell_type": "code",
   "execution_count": 12,
   "metadata": {},
   "outputs": [
    {
     "data": {
      "text/plain": [
       "[['Bob is green.',\n",
       "  'Bob is blue.',\n",
       "  'Eric is round.',\n",
       "  'Eric is rough.',\n",
       "  'Eric is green.',\n",
       "  'Gary is rough.',\n",
       "  'Gary is red.',\n",
       "  'Gary is nice.',\n",
       "  'Gary is blue.',\n",
       "  'If someone is round and red then they are young.',\n",
       "  'If someone is green and cold and red then they are blue.',\n",
       "  'If someone is nice and blue then they are round.',\n",
       "  'If someone is red and young and blue then they are cold.',\n",
       "  'If someone is big and round and young then they are nice.',\n",
       "  'If someone is green and blue and red then they are big.'],\n",
       " ['Bob is green.',\n",
       "  'Bob is blue.',\n",
       "  'Eric is round.',\n",
       "  'Eric is rough.',\n",
       "  'Eric is green.',\n",
       "  'Gary is rough.',\n",
       "  'Gary is red.',\n",
       "  'Gary is nice.',\n",
       "  'Gary is blue.',\n",
       "  'If someone is round and red then they are young.',\n",
       "  'If someone is green and cold and red then they are blue.',\n",
       "  'If someone is nice and blue then they are round.',\n",
       "  'If someone is red and young and blue then they are cold.',\n",
       "  'If someone is big and round and young then they are nice.',\n",
       "  'If someone is green and blue and red then they are big.'],\n",
       " ['Charlie is kind.',\n",
       "  'Charlie is green.',\n",
       "  'Charlie is cold.',\n",
       "  'Charlie is blue.',\n",
       "  'Fred is red.',\n",
       "  'Fred is kind.',\n",
       "  'Fred is green.',\n",
       "  'Fred is blue.',\n",
       "  'Harry is round.',\n",
       "  'If someone is nice and round and young then they are green.',\n",
       "  'If someone is blue and kind then they are rough.',\n",
       "  'If someone is green and kind and blue then they are nice.',\n",
       "  'If someone is kind and cold and blue then they are big.',\n",
       "  'If someone is rough and green then they are kind.',\n",
       "  'If someone is kind and round then they are big.',\n",
       "  'If someone is blue and rough and kind then they are cold.'],\n",
       " ['Charlie is kind.',\n",
       "  'Charlie is green.',\n",
       "  'Charlie is cold.',\n",
       "  'Charlie is blue.',\n",
       "  'Fred is red.',\n",
       "  'Fred is kind.',\n",
       "  'Fred is green.',\n",
       "  'Fred is blue.',\n",
       "  'Harry is round.',\n",
       "  'If someone is nice and round and young then they are green.',\n",
       "  'If someone is blue and kind then they are rough.',\n",
       "  'If someone is green and kind and blue then they are nice.',\n",
       "  'If someone is kind and cold and blue then they are big.',\n",
       "  'If someone is rough and green then they are kind.',\n",
       "  'If someone is kind and round then they are big.',\n",
       "  'If someone is blue and rough and kind then they are cold.']]"
      ]
     },
     "execution_count": 12,
     "metadata": {},
     "output_type": "execute_result"
    }
   ],
   "source": [
    "facts_batch = [[fact[1] for fact in data['facts']] for data in batch]\n",
    "facts_batch"
   ]
  },
  {
   "cell_type": "code",
   "execution_count": 21,
   "metadata": {},
   "outputs": [
    {
     "data": {
      "text/plain": [
       "['|starttext|Bob is green. Bob is blue. Eric is round. Eric is rough. Eric is green. Gary is rough. Gary is red. Gary is nice. Gary is blue. If someone is round and red then they are young. If someone is green and cold and red then they are blue. If someone is nice and blue then they are round. If someone is red and young and blue then they are cold. If someone is big and round and young then they are nice. If someone is green and blue and red then they are big.  Is it true or false that Bob is blue? <gen> true|endtext|',\n",
       " '|starttext|Bob is green. Bob is blue. Eric is round. Eric is rough. Eric is green. Gary is rough. Gary is red. Gary is nice. Gary is blue. If someone is round and red then they are young. If someone is green and cold and red then they are blue. If someone is nice and blue then they are round. If someone is red and young and blue then they are cold. If someone is big and round and young then they are nice. If someone is green and blue and red then they are big.  Is it true or false that Eric is not round? <gen> false|endtext|',\n",
       " '|starttext|Charlie is kind. Charlie is green. Charlie is cold. Charlie is blue. Fred is red. Fred is kind. Fred is green. Fred is blue. Harry is round. If someone is nice and round and young then they are green. If someone is blue and kind then they are rough. If someone is green and kind and blue then they are nice. If someone is kind and cold and blue then they are big. If someone is rough and green then they are kind. If someone is kind and round then they are big. If someone is blue and rough and kind then they are cold.  Is it true or false that Charlie is kind? <gen> true|endtext|',\n",
       " '|starttext|Charlie is kind. Charlie is green. Charlie is cold. Charlie is blue. Fred is red. Fred is kind. Fred is green. Fred is blue. Harry is round. If someone is nice and round and young then they are green. If someone is blue and kind then they are rough. If someone is green and kind and blue then they are nice. If someone is kind and cold and blue then they are big. If someone is rough and green then they are kind. If someone is kind and round then they are big. If someone is blue and rough and kind then they are cold.  Is it true or false that Charlie is not blue? <gen> false|endtext|']"
      ]
     },
     "execution_count": 21,
     "metadata": {},
     "output_type": "execute_result"
    }
   ],
   "source": [
    "inputs = []\n",
    "for facts, question in zip(facts_batch, questions):\n",
    "    fact_prefix = f\"{bos}\"\n",
    "    for fact in facts:\n",
    "        fact_prefix += f\"{fact} \"\n",
    "    inputs.append(f\"{fact_prefix} {question}\")\n",
    "inputs"
   ]
  },
  {
   "cell_type": "code",
   "execution_count": null,
   "metadata": {},
   "outputs": [],
   "source": []
  }
 ],
 "metadata": {
  "kernelspec": {
   "display_name": "Python 3.9.12 ('base')",
   "language": "python",
   "name": "python3"
  },
  "language_info": {
   "codemirror_mode": {
    "name": "ipython",
    "version": 3
   },
   "file_extension": ".py",
   "mimetype": "text/x-python",
   "name": "python",
   "nbconvert_exporter": "python",
   "pygments_lexer": "ipython3",
   "version": "3.9.12"
  },
  "orig_nbformat": 4,
  "vscode": {
   "interpreter": {
    "hash": "61a57a4b5406d2de388e2f91097d4e4bcd7d5f4a46f53a795aa28a02eed27fc5"
   }
  }
 },
 "nbformat": 4,
 "nbformat_minor": 2
}
