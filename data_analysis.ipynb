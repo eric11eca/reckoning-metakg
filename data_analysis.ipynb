{
 "cells": [
  {
   "cell_type": "code",
   "execution_count": 2,
   "metadata": {},
   "outputs": [],
   "source": [
    "import pandas as pd\n",
    "\n",
    "from meta_kg.utils.py_io import read_jsonl, write_jsonl"
   ]
  },
  {
   "cell_type": "code",
   "execution_count": 5,
   "metadata": {},
   "outputs": [
    {
     "data": {
      "text/plain": [
       "{'Unnamed: 0': 0,\n",
       " 'id': 'f4161421-bf6e-4165-9133-07f1dcc4c87e',\n",
       " 'story': \"[Dorothy]'s brother [Michael] and her went to get ice cream. [Michael] is the proud father of the lovely [Donald]\",\n",
       " 'query': \"('Donald', 'Dorothy')\",\n",
       " 'text_query': nan,\n",
       " 'target': 'aunt',\n",
       " 'text_target': \"['[Donald] asked his aunt [Dorothy] what college he should attend.']\",\n",
       " 'clean_story': \"[Michael] is the proud father of the lovely [Donald] [Dorothy]'s brother [Michael] and her went to get ice cream.\",\n",
       " 'proof_state': \"[{('Donald', 'aunt', 'Dorothy'): [('Donald', 'father', 'Michael'), ('Michael', 'sister', 'Dorothy')]}]\",\n",
       " 'f_comb': 'father-sister',\n",
       " 'task_name': 'task_1.2',\n",
       " 'story_edges': '[(0, 1), (1, 2)]',\n",
       " 'edge_types': \"['father', 'sister']\",\n",
       " 'query_edge': '(0, 2)',\n",
       " 'genders': 'Donald:male,Michael:male,Dorothy:female',\n",
       " 'syn_story': nan,\n",
       " 'node_mapping': '{7: 0, 2: 1, 3: 2}',\n",
       " 'task_split': 'train'}"
      ]
     },
     "execution_count": 5,
     "metadata": {},
     "output_type": "execute_result"
    }
   ],
   "source": [
    "df = pd.read_csv(\"data/clutter1/1.2,1.3_train.csv\")\n",
    "clutter = df.to_dict(orient=\"records\")\n",
    "clutter[0]"
   ]
  },
  {
   "cell_type": "code",
   "execution_count": null,
   "metadata": {},
   "outputs": [],
   "source": []
  }
 ],
 "metadata": {
  "kernelspec": {
   "display_name": "Python 3.9.13 ('base')",
   "language": "python",
   "name": "python3"
  },
  "language_info": {
   "codemirror_mode": {
    "name": "ipython",
    "version": 3
   },
   "file_extension": ".py",
   "mimetype": "text/x-python",
   "name": "python",
   "nbconvert_exporter": "python",
   "pygments_lexer": "ipython3",
   "version": "3.9.13"
  },
  "orig_nbformat": 4,
  "vscode": {
   "interpreter": {
    "hash": "da57716393b51983321101882a85e3944f85b7e80ceedbd1c5998b27650909b7"
   }
  }
 },
 "nbformat": 4,
 "nbformat_minor": 2
}
